{
  "nbformat": 4,
  "nbformat_minor": 0,
  "metadata": {
    "colab": {
      "name": "PruebaInicialColab.ipynb",
      "provenance": [],
      "authorship_tag": "ABX9TyNmhbw88PL1I64c3Llvt6pd",
      "include_colab_link": true
    },
    "kernelspec": {
      "name": "python3",
      "display_name": "Python 3"
    }
  },
  "cells": [
    {
      "cell_type": "markdown",
      "metadata": {
        "id": "view-in-github",
        "colab_type": "text"
      },
      "source": [
        "<a href=\"https://colab.research.google.com/github/juanguipalma/DataAnalyst/blob/master/PruebaInicialColab.ipynb\" target=\"_parent\"><img src=\"https://colab.research.google.com/assets/colab-badge.svg\" alt=\"Open In Colab\"/></a>"
      ]
    },
    {
      "cell_type": "markdown",
      "metadata": {
        "id": "FaIDZt6GtVEe",
        "colab_type": "text"
      },
      "source": [
        "#**Seccion**\n",
        "\n",
        "*   html\n",
        "<p FONT COLOR=\"blue\">Texto AZUL </FONT>\n",
        "\n",
        "*   $LaTeX$\n",
        "$$y = x^2 + 3 $$\n",
        "\n",
        "*   texto\n",
        "Hola a todos\n",
        "\n",
        "*   tablas\n",
        "\n",
        "\n",
        "```\n",
        "# Tiene formato de código\n",
        "```\n",
        "\n",
        "\n",
        "Col1 | Col2 | Col3\n",
        "-- | -- | --\n",
        "2 | 4 | 5\n",
        "\n",
        "\n"
      ]
    },
    {
      "cell_type": "markdown",
      "metadata": {
        "id": "k_mhJXZ7uyMt",
        "colab_type": "text"
      },
      "source": [
        "##**Subseccion**\n",
        "\n",
        "Hola a todos, este es el curso de *Analisis de datos y Machine Learning en Python*"
      ]
    },
    {
      "cell_type": "markdown",
      "metadata": {
        "id": "aRx0UbVru7rE",
        "colab_type": "text"
      },
      "source": [
        "###**SubSubSeccion**"
      ]
    },
    {
      "cell_type": "code",
      "metadata": {
        "id": "ebGGgpLOu8mo",
        "colab_type": "code",
        "colab": {},
        "cellView": "both"
      },
      "source": [
        "#@title **Formulario de prueba**\n",
        "pregunta = \"\" #@param {type:\"string\"}\n",
        "\n",
        " "
      ],
      "execution_count": null,
      "outputs": []
    },
    {
      "cell_type": "code",
      "metadata": {
        "id": "eM1Ofel6xA0o",
        "colab_type": "code",
        "colab": {
          "base_uri": "https://localhost:8080/",
          "height": 289
        },
        "outputId": "b4bb4c2a-7a03-479f-81f7-86e2c26cd7da"
      },
      "source": [
        "cat /etc/*release "
      ],
      "execution_count": 4,
      "outputs": [
        {
          "output_type": "stream",
          "text": [
            "DISTRIB_ID=Ubuntu\n",
            "DISTRIB_RELEASE=18.04\n",
            "DISTRIB_CODENAME=bionic\n",
            "DISTRIB_DESCRIPTION=\"Ubuntu 18.04.3 LTS\"\n",
            "NAME=\"Ubuntu\"\n",
            "VERSION=\"18.04.3 LTS (Bionic Beaver)\"\n",
            "ID=ubuntu\n",
            "ID_LIKE=debian\n",
            "PRETTY_NAME=\"Ubuntu 18.04.3 LTS\"\n",
            "VERSION_ID=\"18.04\"\n",
            "HOME_URL=\"https://www.ubuntu.com/\"\n",
            "SUPPORT_URL=\"https://help.ubuntu.com/\"\n",
            "BUG_REPORT_URL=\"https://bugs.launchpad.net/ubuntu/\"\n",
            "PRIVACY_POLICY_URL=\"https://www.ubuntu.com/legal/terms-and-policies/privacy-policy\"\n",
            "VERSION_CODENAME=bionic\n",
            "UBUNTU_CODENAME=bionic\n"
          ],
          "name": "stdout"
        }
      ]
    },
    {
      "cell_type": "code",
      "metadata": {
        "id": "xRUQ2MEkxZzn",
        "colab_type": "code",
        "colab": {
          "base_uri": "https://localhost:8080/",
          "height": 34
        },
        "outputId": "97edf1cd-987c-4752-be74-576630755018"
      },
      "source": [
        "!python --version"
      ],
      "execution_count": 6,
      "outputs": [
        {
          "output_type": "stream",
          "text": [
            "Python 3.6.9\n"
          ],
          "name": "stdout"
        }
      ]
    }
  ]
}